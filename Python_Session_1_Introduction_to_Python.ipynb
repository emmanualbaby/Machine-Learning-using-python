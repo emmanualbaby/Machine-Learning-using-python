{
  "nbformat": 4,
  "nbformat_minor": 0,
  "metadata": {
    "colab": {
      "provenance": []
    },
    "kernelspec": {
      "name": "python3",
      "display_name": "Python 3"
    },
    "language_info": {
      "name": "python"
    }
  },
  "cells": [
    {
      "cell_type": "code",
      "execution_count": 2,
      "metadata": {
        "colab": {
          "base_uri": "https://localhost:8080/"
        },
        "id": "o9LINIjQOXV8",
        "outputId": "3f704da3-747b-40f0-f3e6-3a31427c63b2"
      },
      "outputs": [
        {
          "output_type": "stream",
          "name": "stdout",
          "text": [
            "emmanual ikku\n"
          ]
        }
      ],
      "source": [
        "print(\"emmanual ikku\")"
      ]
    },
    {
      "cell_type": "code",
      "source": [
        "x=10"
      ],
      "metadata": {
        "id": "Uw4Kz1_tOrnk"
      },
      "execution_count": 3,
      "outputs": []
    },
    {
      "cell_type": "code",
      "source": [
        "print(x)"
      ],
      "metadata": {
        "colab": {
          "base_uri": "https://localhost:8080/"
        },
        "id": "iGsPx41bOzET",
        "outputId": "2f3c52cb-2c3e-4315-8a0d-99a116f7a161"
      },
      "execution_count": 4,
      "outputs": [
        {
          "output_type": "stream",
          "name": "stdout",
          "text": [
            "10\n"
          ]
        }
      ]
    },
    {
      "cell_type": "code",
      "source": [
        "x=10\n",
        "x=\"TEN\"\n",
        "y=20\n",
        "#print(x+y)"
      ],
      "metadata": {
        "id": "Rsc4d77DO4At"
      },
      "execution_count": 5,
      "outputs": []
    },
    {
      "cell_type": "code",
      "source": [
        "x=10\n",
        "y=20\n",
        "x+y"
      ],
      "metadata": {
        "colab": {
          "base_uri": "https://localhost:8080/"
        },
        "id": "D1Q-mRp2O9lJ",
        "outputId": "db77b85d-3062-4e08-c552-8b8f8e702a65"
      },
      "execution_count": 6,
      "outputs": [
        {
          "output_type": "execute_result",
          "data": {
            "text/plain": [
              "30"
            ]
          },
          "metadata": {},
          "execution_count": 6
        }
      ]
    },
    {
      "cell_type": "code",
      "source": [
        "x-y"
      ],
      "metadata": {
        "colab": {
          "base_uri": "https://localhost:8080/"
        },
        "id": "g4h_9Un3PBhn",
        "outputId": "f9f6d908-6b5b-4b85-b15c-edc172e1917f"
      },
      "execution_count": 7,
      "outputs": [
        {
          "output_type": "execute_result",
          "data": {
            "text/plain": [
              "-10"
            ]
          },
          "metadata": {},
          "execution_count": 7
        }
      ]
    },
    {
      "cell_type": "code",
      "source": [
        "x=\"emmanual\"\n",
        "y=\"ikku\"\n",
        "x+\" \"+y"
      ],
      "metadata": {
        "colab": {
          "base_uri": "https://localhost:8080/",
          "height": 36
        },
        "id": "q9yBNnj3PMDf",
        "outputId": "83a69838-3eb5-4c9a-df10-5fc3155a4d64"
      },
      "execution_count": 8,
      "outputs": [
        {
          "output_type": "execute_result",
          "data": {
            "text/plain": [
              "'emmanual ikku'"
            ],
            "application/vnd.google.colaboratory.intrinsic+json": {
              "type": "string"
            }
          },
          "metadata": {},
          "execution_count": 8
        }
      ]
    },
    {
      "cell_type": "code",
      "source": [
        "x=\"emmanual\"\n",
        "y=\"ikku\""
      ],
      "metadata": {
        "id": "dCyb0jAPPXdJ"
      },
      "execution_count": 9,
      "outputs": []
    },
    {
      "cell_type": "code",
      "source": [
        "x+y"
      ],
      "metadata": {
        "colab": {
          "base_uri": "https://localhost:8080/",
          "height": 36
        },
        "id": "oODXjL8SPie-",
        "outputId": "0f933cbf-ff8f-4e0a-a106-c4ac52d36674"
      },
      "execution_count": 10,
      "outputs": [
        {
          "output_type": "execute_result",
          "data": {
            "text/plain": [
              "'emmanualikku'"
            ],
            "application/vnd.google.colaboratory.intrinsic+json": {
              "type": "string"
            }
          },
          "metadata": {},
          "execution_count": 10
        }
      ]
    },
    {
      "cell_type": "code",
      "source": [
        "x=int(input(\"Enter first number\") )\n",
        "y=int(input(\"Enter second number\"))\n",
        "print(\"Sum = \",x+y,\"Sub = \", x-y,\"Div =\", x/y,\"Mul = \", x*y)"
      ],
      "metadata": {
        "colab": {
          "base_uri": "https://localhost:8080/"
        },
        "id": "4E5MHCDqPrb7",
        "outputId": "79083d7a-ebf6-41d6-8360-fca6f0b5d94f"
      },
      "execution_count": 13,
      "outputs": [
        {
          "output_type": "stream",
          "name": "stdout",
          "text": [
            "Enter first number1\n",
            "Enter second number5\n",
            "Sum =  6 Sub =  -4 Div = 0.2 Mul =  5\n"
          ]
        }
      ]
    },
    {
      "cell_type": "code",
      "source": [
        "type(x)"
      ],
      "metadata": {
        "colab": {
          "base_uri": "https://localhost:8080/"
        },
        "id": "vJtJAjPxP7xZ",
        "outputId": "0e9fc5b6-556d-4dfd-a5b6-13ca1942e501"
      },
      "execution_count": 14,
      "outputs": [
        {
          "output_type": "execute_result",
          "data": {
            "text/plain": [
              "int"
            ]
          },
          "metadata": {},
          "execution_count": 14
        }
      ]
    },
    {
      "cell_type": "code",
      "source": [
        "x+y"
      ],
      "metadata": {
        "colab": {
          "base_uri": "https://localhost:8080/"
        },
        "id": "cnx2ushgQBIP",
        "outputId": "bb6c32fb-e5f1-4f91-f338-d573bddf1dbd"
      },
      "execution_count": 15,
      "outputs": [
        {
          "output_type": "execute_result",
          "data": {
            "text/plain": [
              "6"
            ]
          },
          "metadata": {},
          "execution_count": 15
        }
      ]
    },
    {
      "cell_type": "code",
      "source": [
        "x=[10,20,30,40,50,60]"
      ],
      "metadata": {
        "id": "f_IS2X4dQFHA"
      },
      "execution_count": 17,
      "outputs": []
    },
    {
      "cell_type": "code",
      "source": [
        "x"
      ],
      "metadata": {
        "colab": {
          "base_uri": "https://localhost:8080/"
        },
        "id": "MNQ6PJxsQPDp",
        "outputId": "6a7d891d-5613-49b7-a2fe-744cc0ab7669"
      },
      "execution_count": 19,
      "outputs": [
        {
          "output_type": "execute_result",
          "data": {
            "text/plain": [
              "[10, 20, 30, 40, 50, 60]"
            ]
          },
          "metadata": {},
          "execution_count": 19
        }
      ]
    },
    {
      "cell_type": "code",
      "source": [
        "type(x)"
      ],
      "metadata": {
        "colab": {
          "base_uri": "https://localhost:8080/"
        },
        "id": "PN5bu9PtQWdz",
        "outputId": "d65810bf-e9b3-4e5b-cd9a-a6da651a2c29"
      },
      "execution_count": 20,
      "outputs": [
        {
          "output_type": "execute_result",
          "data": {
            "text/plain": [
              "list"
            ]
          },
          "metadata": {},
          "execution_count": 20
        }
      ]
    },
    {
      "cell_type": "code",
      "source": [
        "x[1]"
      ],
      "metadata": {
        "colab": {
          "base_uri": "https://localhost:8080/"
        },
        "id": "z5-yatS1QbCn",
        "outputId": "a5c72600-0a9c-4f4d-bac2-bb7828764331"
      },
      "execution_count": 21,
      "outputs": [
        {
          "output_type": "execute_result",
          "data": {
            "text/plain": [
              "20"
            ]
          },
          "metadata": {},
          "execution_count": 21
        }
      ]
    },
    {
      "cell_type": "code",
      "source": [
        "x=[\"ikku1583\", \"vava\", 22, \"india\", 25000, True]"
      ],
      "metadata": {
        "id": "V95hWZjrQh9q"
      },
      "execution_count": 27,
      "outputs": []
    },
    {
      "cell_type": "code",
      "source": [
        "x[-5:-3]"
      ],
      "metadata": {
        "colab": {
          "base_uri": "https://localhost:8080/"
        },
        "id": "EONhpwGBQ6LF",
        "outputId": "77929968-c32e-4e0a-aa0d-901a8aa9d3ee"
      },
      "execution_count": 28,
      "outputs": [
        {
          "output_type": "execute_result",
          "data": {
            "text/plain": [
              "['vava', 22]"
            ]
          },
          "metadata": {},
          "execution_count": 28
        }
      ]
    },
    {
      "cell_type": "code",
      "source": [
        "['vava', 22]"
      ],
      "metadata": {
        "colab": {
          "base_uri": "https://localhost:8080/"
        },
        "id": "UfedbzeURA_n",
        "outputId": "9cb29a78-d1b1-43cf-9f8a-7098981367ad"
      },
      "execution_count": 29,
      "outputs": [
        {
          "output_type": "execute_result",
          "data": {
            "text/plain": [
              "['vava', 22]"
            ]
          },
          "metadata": {},
          "execution_count": 29
        }
      ]
    },
    {
      "cell_type": "code",
      "source": [
        "x[:4]"
      ],
      "metadata": {
        "colab": {
          "base_uri": "https://localhost:8080/"
        },
        "id": "dm6idXzsRNEU",
        "outputId": "bfdb694d-8f8a-42f0-9723-73956275c9ba"
      },
      "execution_count": 30,
      "outputs": [
        {
          "output_type": "execute_result",
          "data": {
            "text/plain": [
              "['ikku1583', 'vava', 22, 'india']"
            ]
          },
          "metadata": {},
          "execution_count": 30
        }
      ]
    },
    {
      "cell_type": "code",
      "source": [
        "x=[\"ikku1583\", \"vava\", 22, \"india\", 25000, True]"
      ],
      "metadata": {
        "id": "XbRSluHTRbRU"
      },
      "execution_count": 31,
      "outputs": []
    },
    {
      "cell_type": "code",
      "source": [
        "x[4]=25000"
      ],
      "metadata": {
        "id": "RrtAwedRRwgs"
      },
      "execution_count": 32,
      "outputs": []
    },
    {
      "cell_type": "code",
      "source": [
        "x"
      ],
      "metadata": {
        "colab": {
          "base_uri": "https://localhost:8080/"
        },
        "id": "nbLwTVssR3Gi",
        "outputId": "7568b113-2e4f-4925-eeda-ae4f9fd6c70f"
      },
      "execution_count": 33,
      "outputs": [
        {
          "output_type": "execute_result",
          "data": {
            "text/plain": [
              "['ikku1583', 'vava', 22, 'india', 25000, True]"
            ]
          },
          "metadata": {},
          "execution_count": 33
        }
      ]
    },
    {
      "cell_type": "code",
      "source": [
        "x.append(\"Reporting Manager =  ikku\")"
      ],
      "metadata": {
        "id": "d0XhpVo4R6ZM"
      },
      "execution_count": 34,
      "outputs": []
    },
    {
      "cell_type": "code",
      "source": [
        "x"
      ],
      "metadata": {
        "colab": {
          "base_uri": "https://localhost:8080/"
        },
        "id": "ejCeE0qtSBnN",
        "outputId": "23049298-04dc-4668-dd4e-e4d37c52436a"
      },
      "execution_count": 35,
      "outputs": [
        {
          "output_type": "execute_result",
          "data": {
            "text/plain": [
              "['ikku1583', 'vava', 22, 'india', 25000, True, 'Reporting Manager =  ikku']"
            ]
          },
          "metadata": {},
          "execution_count": 35
        }
      ]
    },
    {
      "cell_type": "code",
      "source": [
        "x=[\"ikku1583\", \"vava\", 22, \"india\", 25000, True]"
      ],
      "metadata": {
        "id": "RsFm0VQCSM0i"
      },
      "execution_count": 36,
      "outputs": []
    },
    {
      "cell_type": "code",
      "source": [
        "x.insert(2,\"Reporting Manager = ikku\")"
      ],
      "metadata": {
        "id": "_oD8ski1SPQ5"
      },
      "execution_count": 37,
      "outputs": []
    },
    {
      "cell_type": "code",
      "source": [
        "x"
      ],
      "metadata": {
        "colab": {
          "base_uri": "https://localhost:8080/"
        },
        "id": "QKidHig1SWcs",
        "outputId": "2cadeed0-cfa7-43d2-81d0-b760dee16009"
      },
      "execution_count": 38,
      "outputs": [
        {
          "output_type": "execute_result",
          "data": {
            "text/plain": [
              "['ikku1583', 'vava', 'Reporting Manager = ikku', 22, 'india', 25000, True]"
            ]
          },
          "metadata": {},
          "execution_count": 38
        }
      ]
    },
    {
      "cell_type": "code",
      "source": [
        "x={\"Employee ID\":\"ikku1583\", \"Name\": \"vava\", \"Age\":22,\n",
        "   \"Country\":\"india\", \"Salary\" :25000}"
      ],
      "metadata": {
        "id": "qp8GcWIXSa8d"
      },
      "execution_count": 39,
      "outputs": []
    },
    {
      "cell_type": "code",
      "source": [
        "type(x)"
      ],
      "metadata": {
        "colab": {
          "base_uri": "https://localhost:8080/"
        },
        "id": "wN7Ha_a7SuGI",
        "outputId": "928c1a96-dfef-44f4-dd1f-d31f5fca9be9"
      },
      "execution_count": 40,
      "outputs": [
        {
          "output_type": "execute_result",
          "data": {
            "text/plain": [
              "dict"
            ]
          },
          "metadata": {},
          "execution_count": 40
        }
      ]
    },
    {
      "cell_type": "code",
      "source": [
        "x[\"Salary\"]"
      ],
      "metadata": {
        "colab": {
          "base_uri": "https://localhost:8080/"
        },
        "id": "gbS7Nlo-SygD",
        "outputId": "c858dc2d-f2c6-4356-c353-43f3bfbc6da4"
      },
      "execution_count": 45,
      "outputs": [
        {
          "output_type": "execute_result",
          "data": {
            "text/plain": [
              "25000"
            ]
          },
          "metadata": {},
          "execution_count": 45
        }
      ]
    }
  ]
}